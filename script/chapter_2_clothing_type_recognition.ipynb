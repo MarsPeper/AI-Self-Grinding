{
 "cells": [
  {
   "cell_type": "code",
   "execution_count": 3,
   "id": "578deb77",
   "metadata": {},
   "outputs": [
    {
     "name": "stdout",
     "output_type": "stream",
     "text": [
      "Downloading data from https://storage.googleapis.com/tensorflow/tf-keras-datasets/train-labels-idx1-ubyte.gz\n",
      "29515/29515 [==============================] - 0s 3us/step\n",
      "Downloading data from https://storage.googleapis.com/tensorflow/tf-keras-datasets/train-images-idx3-ubyte.gz\n",
      "26421880/26421880 [==============================] - 5s 0us/step\n",
      "Downloading data from https://storage.googleapis.com/tensorflow/tf-keras-datasets/t10k-labels-idx1-ubyte.gz\n",
      "5148/5148 [==============================] - 0s 0s/step\n",
      "Downloading data from https://storage.googleapis.com/tensorflow/tf-keras-datasets/t10k-images-idx3-ubyte.gz\n",
      "4422102/4422102 [==============================] - 2s 0us/step\n",
      "Epoch 1/50\n",
      "1875/1875 [==============================] - 4s 2ms/step - loss: 0.5019 - accuracy: 0.8238\n",
      "Epoch 2/50\n",
      "1875/1875 [==============================] - 4s 2ms/step - loss: 0.3810 - accuracy: 0.8628\n",
      "Epoch 3/50\n",
      "1875/1875 [==============================] - 3s 2ms/step - loss: 0.3391 - accuracy: 0.8770\n",
      "Epoch 4/50\n",
      "1875/1875 [==============================] - 3s 2ms/step - loss: 0.3149 - accuracy: 0.8854\n",
      "Epoch 5/50\n",
      "1875/1875 [==============================] - 4s 2ms/step - loss: 0.2954 - accuracy: 0.8919\n",
      "Epoch 6/50\n",
      "1875/1875 [==============================] - 4s 2ms/step - loss: 0.2815 - accuracy: 0.8959\n",
      "Epoch 7/50\n",
      "1875/1875 [==============================] - 4s 2ms/step - loss: 0.2699 - accuracy: 0.9012\n",
      "Epoch 8/50\n",
      "1875/1875 [==============================] - 3s 2ms/step - loss: 0.2591 - accuracy: 0.9041\n",
      "Epoch 9/50\n",
      "1875/1875 [==============================] - 4s 2ms/step - loss: 0.2467 - accuracy: 0.9089\n",
      "Epoch 10/50\n",
      "1875/1875 [==============================] - 4s 2ms/step - loss: 0.2404 - accuracy: 0.9097\n",
      "Epoch 11/50\n",
      "1875/1875 [==============================] - 4s 2ms/step - loss: 0.2324 - accuracy: 0.9124\n",
      "Epoch 12/50\n",
      "1875/1875 [==============================] - 4s 2ms/step - loss: 0.2251 - accuracy: 0.9158\n",
      "Epoch 13/50\n",
      "1875/1875 [==============================] - 3s 2ms/step - loss: 0.2179 - accuracy: 0.9179\n",
      "Epoch 14/50\n",
      "1875/1875 [==============================] - 3s 2ms/step - loss: 0.2112 - accuracy: 0.9212\n",
      "Epoch 15/50\n",
      "1875/1875 [==============================] - 3s 2ms/step - loss: 0.2050 - accuracy: 0.9235\n",
      "Epoch 16/50\n",
      "1875/1875 [==============================] - 4s 2ms/step - loss: 0.1995 - accuracy: 0.9257\n",
      "Epoch 17/50\n",
      "1875/1875 [==============================] - 4s 2ms/step - loss: 0.1936 - accuracy: 0.9268\n",
      "Epoch 18/50\n",
      "1875/1875 [==============================] - 3s 2ms/step - loss: 0.1891 - accuracy: 0.9292\n",
      "Epoch 19/50\n",
      "1875/1875 [==============================] - 4s 2ms/step - loss: 0.1829 - accuracy: 0.9312\n",
      "Epoch 20/50\n",
      "1875/1875 [==============================] - 4s 2ms/step - loss: 0.1790 - accuracy: 0.9323\n",
      "Epoch 21/50\n",
      "1875/1875 [==============================] - 4s 2ms/step - loss: 0.1740 - accuracy: 0.9338\n",
      "Epoch 22/50\n",
      "1875/1875 [==============================] - 3s 2ms/step - loss: 0.1706 - accuracy: 0.9347\n",
      "Epoch 23/50\n",
      "1875/1875 [==============================] - 3s 2ms/step - loss: 0.1663 - accuracy: 0.9368\n",
      "Epoch 24/50\n",
      "1875/1875 [==============================] - 4s 2ms/step - loss: 0.1618 - accuracy: 0.9383\n",
      "Epoch 25/50\n",
      "1875/1875 [==============================] - 4s 2ms/step - loss: 0.1590 - accuracy: 0.9402\n",
      "Epoch 26/50\n",
      "1875/1875 [==============================] - 4s 2ms/step - loss: 0.1551 - accuracy: 0.9417\n",
      "Epoch 27/50\n",
      "1875/1875 [==============================] - 3s 2ms/step - loss: 0.1519 - accuracy: 0.9422\n",
      "Epoch 28/50\n",
      "1875/1875 [==============================] - 3s 2ms/step - loss: 0.1497 - accuracy: 0.9433\n",
      "Epoch 29/50\n",
      "1875/1875 [==============================] - 3s 2ms/step - loss: 0.1453 - accuracy: 0.9455\n",
      "Epoch 30/50\n",
      "1875/1875 [==============================] - 3s 2ms/step - loss: 0.1423 - accuracy: 0.9465\n",
      "Epoch 31/50\n",
      "1875/1875 [==============================] - 3s 2ms/step - loss: 0.1394 - accuracy: 0.9485\n",
      "Epoch 32/50\n",
      "1875/1875 [==============================] - 3s 2ms/step - loss: 0.1374 - accuracy: 0.9477\n",
      "Epoch 33/50\n",
      "1875/1875 [==============================] - 3s 2ms/step - loss: 0.1328 - accuracy: 0.9500\n",
      "Epoch 34/50\n",
      "1861/1875 [============================>.] - ETA: 0s - loss: 0.1299 - accuracy: 0.9507\n",
      "Reached 95% accuracy --> Cancelling training!...\n",
      "1875/1875 [==============================] - 3s 2ms/step - loss: 0.1297 - accuracy: 0.9508\n"
     ]
    },
    {
     "data": {
      "text/plain": [
       "<keras.callbacks.History at 0x1ef5c614940>"
      ]
     },
     "execution_count": 3,
     "metadata": {},
     "output_type": "execute_result"
    }
   ],
   "source": [
    "# Loc Nguyen\n",
    "# Chapter 2: Image recognition\n",
    "# Clothing type recognition\n",
    "# Training on Fashion MNIST dataset\n",
    "\n",
    "import tensorflow as tf\n",
    "\n",
    "class myCallback(tf.keras.callbacks.Callback):\n",
    "    def on_epoch_end(self, epoch, logs={}):\n",
    "        if (logs.get('accuracy') > 0.95):\n",
    "            print(\"\\nReached 95% accuracy --> Cancelling training!...\")\n",
    "            self.model.stop_training = True\n",
    "    \n",
    "callbacks = myCallback()\n",
    "mnist = tf.keras.datasets.fashion_mnist\n",
    "    \n",
    "(training_images, training_labels), (test_images, test_labels) = mnist.load_data()\n",
    "    \n",
    "# normalizing pixel value (each pixel in an image has a value of 0 to 255)\n",
    "training_images = training_images/255.0\n",
    "test_images = test_images/255.0\n",
    "    \n",
    "model = tf.keras.models.Sequential([\n",
    "    # Flatten the 2D array of pixel values (colors value)\n",
    "    # and turn it into 1D\n",
    "    tf.keras.layers.Flatten(),\n",
    "    tf.keras.layers.Dense(128, activation = tf.nn.relu),\n",
    "    tf.keras.layers.Dense(10, activation = tf.nn.softmax)\n",
    "    ])\n",
    "    \n",
    "model.compile(optimizer = 'adam',\n",
    "              loss = 'sparse_categorical_crossentropy',\n",
    "              metrics = ['accuracy'])\n",
    "    \n",
    "model.fit(training_images, \n",
    "          training_labels, \n",
    "          epochs = 50,\n",
    "          callbacks=[callbacks])\n",
    "    "
   ]
  },
  {
   "cell_type": "code",
   "execution_count": 4,
   "id": "669eb332",
   "metadata": {},
   "outputs": [
    {
     "name": "stdout",
     "output_type": "stream",
     "text": [
      "313/313 [==============================] - 0s 1ms/step\n",
      "[4.3885347e-11 3.0330116e-21 7.6822750e-13 9.7807735e-09 3.1601561e-13\n",
      " 9.9807294e-06 2.5818485e-09 7.8219007e-04 5.7920348e-12 9.9920779e-01]\n",
      "9\n"
     ]
    }
   ],
   "source": [
    "# testing model output\n",
    "classifications = model.predict(test_images)\n",
    "print(classifications[0])\n",
    "print(test_labels[0])"
   ]
  },
  {
   "cell_type": "code",
   "execution_count": null,
   "id": "38321ab8",
   "metadata": {},
   "outputs": [],
   "source": [
    "# 9th value has the highest, which is also the correct label (9.992077e-01)"
   ]
  }
 ],
 "metadata": {
  "kernelspec": {
   "display_name": "Python 3 (ipykernel)",
   "language": "python",
   "name": "python3"
  },
  "language_info": {
   "codemirror_mode": {
    "name": "ipython",
    "version": 3
   },
   "file_extension": ".py",
   "mimetype": "text/x-python",
   "name": "python",
   "nbconvert_exporter": "python",
   "pygments_lexer": "ipython3",
   "version": "3.9.13"
  }
 },
 "nbformat": 4,
 "nbformat_minor": 5
}
