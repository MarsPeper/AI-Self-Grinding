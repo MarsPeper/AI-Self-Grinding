{
 "cells": [
  {
   "cell_type": "markdown",
   "id": "2b6d1508",
   "metadata": {},
   "source": [
    "# Self Study Note Session\n",
    "\n",
    "AI and Machine Learning for programmers\n",
    "Chapter 2: Introduction to Computer Vision\n",
    "\n",
    "## Clothing type image recognition\n",
    "\n",
    "### Fashion MNIST dataset --> 10 types of clothing, \n",
    "\n",
    "\n",
    "\n",
    "```Python\n",
    "model = keras.Sequential([\n",
    " keras.layers.Flatten(input_shape=(28, 28)),\n",
    " keras.layers.Dense(128, activation=tf.nn.relu),\n",
    " keras.layers.Dense(10, activation=tf.nn.softmax)\n",
    "])\n",
    "```\n",
    "\n",
    "Explanation: keras.layers.Flatten(input_shape=(28, 28)):\n",
    "\n",
    "----> Flatten isn't a layer of neurons\n",
    "\n",
    "----> Flatten takes a 28x28 (refer to input_shape=(28,28)) 2D array (the 2D array of pixel values of an image) and then \"flattens it\", converting it into a 1D array\n",
    "\n",
    "\n"
   ]
  },
  {
   "cell_type": "markdown",
   "id": "61a40123",
   "metadata": {},
   "source": [
    "\n",
    "\n",
    "##### Terms: hidden layers = layers that are between inputs and outputs\n",
    "\n",
    "Explanation: keras.layers.Dense(128, activation=tf.nn.relu):\n",
    "\n",
    "----> Dense is a layer of neurons --> The 128 means 128 neurons\n",
    "#### Why 28? --> This is arbitrary, needs to do hyperparameter tuning (test a bunch of values to see which one is best)\n",
    "\n",
    "### more neurons --> train slower, higher testing accuracy, might cause overfit\n",
    "\n",
    "### less neurons --> not have sufficient parameters to learn.\n",
    "\n",
    "\n",
    "##### Terms: hyperparameter: value that controls the training\n",
    "##### Terms: parameters: values of the neurons that get trained/learned\n",
    "\n",
    "Explanation: activation=tf.nn.relu:\n",
    "\n",
    "----> This is one of te activation function that is supported by TensorFlow\n",
    "----> Quite a common one\n",
    "##### Terms: relu --> rectified linear unit --> simple function that returns a value if it's greater than 0 ==> AVOID NEGATIVE VALUES BEING PASSED TO THE NEXT LAYER\n",
    "\n",
    "Explanation: keras.layers.Dense(10, activation=tf.nn.softmax):\n",
    "\n",
    "----> Another Dense layer --> the output layer.\n",
    "----> Has 10 neurons because we have 10 classes (10 types of clothing)\n",
    "\n",
    "### Each of these 10 neurons will end up with a probability that the input pixel match that class --> NEED TO PICK HIGHEST ==> softmax activation funciton do this for us\n",
    "\n"
   ]
  },
  {
   "cell_type": "code",
   "execution_count": null,
   "id": "4b2ab7a5",
   "metadata": {},
   "outputs": [],
   "source": []
  }
 ],
 "metadata": {
  "kernelspec": {
   "display_name": "Python 3 (ipykernel)",
   "language": "python",
   "name": "python3"
  },
  "language_info": {
   "codemirror_mode": {
    "name": "ipython",
    "version": 3
   },
   "file_extension": ".py",
   "mimetype": "text/x-python",
   "name": "python",
   "nbconvert_exporter": "python",
   "pygments_lexer": "ipython3",
   "version": "3.9.13"
  }
 },
 "nbformat": 4,
 "nbformat_minor": 5
}
